{
 "cells": [
  {
   "cell_type": "markdown",
   "metadata": {},
   "source": [
    "## Creating CNN Using Scratch And Transfer Learning"
   ]
  },
  {
   "cell_type": "markdown",
   "metadata": {},
   "source": [
    "Please download the dataset from the below url"
   ]
  },
  {
   "cell_type": "code",
   "execution_count": 1,
   "metadata": {},
   "outputs": [],
   "source": [
    "# import the libraries as shown below\n",
    "\n",
    "from tensorflow.keras.layers import Input, Lambda, Dense, Flatten,Conv2D\n",
    "from tensorflow.keras.models import Model\n",
    "from tensorflow.keras.applications.vgg19 import VGG19\n",
    "from tensorflow.keras.applications.resnet50 import preprocess_input\n",
    "from tensorflow.keras.preprocessing import image\n",
    "from tensorflow.keras.preprocessing.image import ImageDataGenerator,load_img\n",
    "from tensorflow.keras.models import Sequential\n",
    "import numpy as np\n",
    "from glob import glob\n",
    "import matplotlib.pyplot as plt"
   ]
  },
  {
   "cell_type": "code",
   "execution_count": 2,
   "metadata": {},
   "outputs": [],
   "source": [
    "# re-size all the images to this\n",
    "IMAGE_SIZE = [224, 224]\n",
    "\n",
    "train_path = 'cell_images/Train'\n",
    "valid_path = 'cell_images/Test'\n"
   ]
  },
  {
   "cell_type": "code",
   "execution_count": 3,
   "metadata": {},
   "outputs": [],
   "source": [
    "# Import the Vgg 16 library as shown below and add preprocessing layer to the front of VGG\n",
    "# Here we will be using imagenet weights\n",
    "\n",
    "mobilnet = VGG19(input_shape=IMAGE_SIZE + [3], weights='imagenet', include_top=False)\n",
    "\n",
    "\n"
   ]
  },
  {
   "cell_type": "code",
   "execution_count": 4,
   "metadata": {},
   "outputs": [],
   "source": [
    "# don't train existing weights\n",
    "for layer in mobilnet.layers:\n",
    "    layer.trainable = False"
   ]
  },
  {
   "cell_type": "code",
   "execution_count": 5,
   "metadata": {},
   "outputs": [],
   "source": [
    "  # useful for getting number of output classes\n",
    "folders = glob('Dataset/Train/*')"
   ]
  },
  {
   "cell_type": "code",
   "execution_count": 6,
   "metadata": {},
   "outputs": [
    {
     "data": {
      "text/plain": [
       "['Dataset/Train\\\\Parasite', 'Dataset/Train\\\\Uninfected']"
      ]
     },
     "execution_count": 6,
     "metadata": {},
     "output_type": "execute_result"
    }
   ],
   "source": [
    "folders"
   ]
  },
  {
   "cell_type": "code",
   "execution_count": 7,
   "metadata": {},
   "outputs": [],
   "source": [
    "# our layers - you can add more if you want\n",
    "x = Flatten()(mobilnet.output)"
   ]
  },
  {
   "cell_type": "code",
   "execution_count": 8,
   "metadata": {},
   "outputs": [],
   "source": [
    "prediction = Dense(len(folders), activation='softmax')(x)\n",
    "\n",
    "# create a model object\n",
    "model = Model(inputs=mobilnet.input, outputs=prediction)"
   ]
  },
  {
   "cell_type": "code",
   "execution_count": 9,
   "metadata": {},
   "outputs": [
    {
     "name": "stdout",
     "output_type": "stream",
     "text": [
      "Model: \"model\"\n",
      "_________________________________________________________________\n",
      "Layer (type)                 Output Shape              Param #   \n",
      "=================================================================\n",
      "input_1 (InputLayer)         [(None, 224, 224, 3)]     0         \n",
      "_________________________________________________________________\n",
      "block1_conv1 (Conv2D)        (None, 224, 224, 64)      1792      \n",
      "_________________________________________________________________\n",
      "block1_conv2 (Conv2D)        (None, 224, 224, 64)      36928     \n",
      "_________________________________________________________________\n",
      "block1_pool (MaxPooling2D)   (None, 112, 112, 64)      0         \n",
      "_________________________________________________________________\n",
      "block2_conv1 (Conv2D)        (None, 112, 112, 128)     73856     \n",
      "_________________________________________________________________\n",
      "block2_conv2 (Conv2D)        (None, 112, 112, 128)     147584    \n",
      "_________________________________________________________________\n",
      "block2_pool (MaxPooling2D)   (None, 56, 56, 128)       0         \n",
      "_________________________________________________________________\n",
      "block3_conv1 (Conv2D)        (None, 56, 56, 256)       295168    \n",
      "_________________________________________________________________\n",
      "block3_conv2 (Conv2D)        (None, 56, 56, 256)       590080    \n",
      "_________________________________________________________________\n",
      "block3_conv3 (Conv2D)        (None, 56, 56, 256)       590080    \n",
      "_________________________________________________________________\n",
      "block3_conv4 (Conv2D)        (None, 56, 56, 256)       590080    \n",
      "_________________________________________________________________\n",
      "block3_pool (MaxPooling2D)   (None, 28, 28, 256)       0         \n",
      "_________________________________________________________________\n",
      "block4_conv1 (Conv2D)        (None, 28, 28, 512)       1180160   \n",
      "_________________________________________________________________\n",
      "block4_conv2 (Conv2D)        (None, 28, 28, 512)       2359808   \n",
      "_________________________________________________________________\n",
      "block4_conv3 (Conv2D)        (None, 28, 28, 512)       2359808   \n",
      "_________________________________________________________________\n",
      "block4_conv4 (Conv2D)        (None, 28, 28, 512)       2359808   \n",
      "_________________________________________________________________\n",
      "block4_pool (MaxPooling2D)   (None, 14, 14, 512)       0         \n",
      "_________________________________________________________________\n",
      "block5_conv1 (Conv2D)        (None, 14, 14, 512)       2359808   \n",
      "_________________________________________________________________\n",
      "block5_conv2 (Conv2D)        (None, 14, 14, 512)       2359808   \n",
      "_________________________________________________________________\n",
      "block5_conv3 (Conv2D)        (None, 14, 14, 512)       2359808   \n",
      "_________________________________________________________________\n",
      "block5_conv4 (Conv2D)        (None, 14, 14, 512)       2359808   \n",
      "_________________________________________________________________\n",
      "block5_pool (MaxPooling2D)   (None, 7, 7, 512)         0         \n",
      "_________________________________________________________________\n",
      "flatten (Flatten)            (None, 25088)             0         \n",
      "_________________________________________________________________\n",
      "dense (Dense)                (None, 2)                 50178     \n",
      "=================================================================\n",
      "Total params: 20,074,562\n",
      "Trainable params: 50,178\n",
      "Non-trainable params: 20,024,384\n",
      "_________________________________________________________________\n"
     ]
    }
   ],
   "source": [
    "\n",
    "# view the structure of the model\n",
    "model.summary()\n"
   ]
  },
  {
   "cell_type": "code",
   "execution_count": 51,
   "metadata": {},
   "outputs": [],
   "source": [
    "from tensorflow.keras.layers import MaxPooling2D"
   ]
  },
  {
   "cell_type": "code",
   "execution_count": 52,
   "metadata": {},
   "outputs": [
    {
     "name": "stdout",
     "output_type": "stream",
     "text": [
      "Model: \"sequential_2\"\n",
      "_________________________________________________________________\n",
      "Layer (type)                 Output Shape              Param #   \n",
      "=================================================================\n",
      "conv2d_6 (Conv2D)            (None, 224, 224, 16)      208       \n",
      "_________________________________________________________________\n",
      "max_pooling2d_6 (MaxPooling2 (None, 112, 112, 16)      0         \n",
      "_________________________________________________________________\n",
      "conv2d_7 (Conv2D)            (None, 112, 112, 32)      2080      \n",
      "_________________________________________________________________\n",
      "max_pooling2d_7 (MaxPooling2 (None, 56, 56, 32)        0         \n",
      "_________________________________________________________________\n",
      "conv2d_8 (Conv2D)            (None, 56, 56, 64)        8256      \n",
      "_________________________________________________________________\n",
      "max_pooling2d_8 (MaxPooling2 (None, 28, 28, 64)        0         \n",
      "_________________________________________________________________\n",
      "flatten_5 (Flatten)          (None, 50176)             0         \n",
      "_________________________________________________________________\n",
      "dense_7 (Dense)              (None, 128)               6422656   \n",
      "_________________________________________________________________\n",
      "dense_8 (Dense)              (None, 64)                8256      \n",
      "_________________________________________________________________\n",
      "dense_9 (Dense)              (None, 32)                2080      \n",
      "_________________________________________________________________\n",
      "dense_10 (Dense)             (None, 16)                528       \n",
      "_________________________________________________________________\n",
      "dense_11 (Dense)             (None, 8)                 136       \n",
      "_________________________________________________________________\n",
      "dense_12 (Dense)             (None, 2)                 18        \n",
      "=================================================================\n",
      "Total params: 6,444,218\n",
      "Trainable params: 6,444,218\n",
      "Non-trainable params: 0\n",
      "_________________________________________________________________\n"
     ]
    }
   ],
   "source": [
    "### Create Model from scratch using CNN\n",
    "model=Sequential()\n",
    "model.add(Conv2D(filters=16,kernel_size=2,padding=\"same\",activation=\"relu\",input_shape=(224,224,3)))\n",
    "model.add(MaxPooling2D(pool_size=2))\n",
    "model.add(Conv2D(filters=32,kernel_size=2,padding=\"same\",activation =\"relu\"))\n",
    "model.add(MaxPooling2D(pool_size=2))\n",
    "model.add(Conv2D(filters=64,kernel_size=2,padding=\"same\",activation=\"relu\"))\n",
    "model.add(MaxPooling2D(pool_size=2))\n",
    "model.add(Flatten())\n",
    "model.add(Dense(128,activation=\"relu\"))\n",
    "model.add(Dense(64,activation=\"relu\"))\n",
    "model.add(Dense(32,activation=\"relu\"))\n",
    "model.add(Dense(16,activation=\"relu\"))\n",
    "model.add(Dense(8,activation=\"relu\"))\n",
    "model.add(Dense(2,activation=\"softmax\"))\n",
    "model.summary()"
   ]
  },
  {
   "cell_type": "code",
   "execution_count": 53,
   "metadata": {},
   "outputs": [],
   "source": [
    "# tell the model what cost and optimization method to use\n",
    "model.compile(\n",
    "  loss='categorical_crossentropy',\n",
    "  optimizer='adam',\n",
    "  metrics=['accuracy']\n",
    ")\n"
   ]
  },
  {
   "cell_type": "code",
   "execution_count": 54,
   "metadata": {},
   "outputs": [],
   "source": [
    "# Use the Image Data Generator to import the images from the dataset\n",
    "from tensorflow.keras.preprocessing.image import ImageDataGenerator\n",
    "\n",
    "train_datagen = ImageDataGenerator(rescale = 1./255,\n",
    "                                   shear_range = 0.2,\n",
    "                                   zoom_range = 0.2,\n",
    "                                   horizontal_flip = True)\n",
    "\n",
    "test_datagen = ImageDataGenerator(rescale = 1./255)"
   ]
  },
  {
   "cell_type": "code",
   "execution_count": 55,
   "metadata": {},
   "outputs": [
    {
     "name": "stdout",
     "output_type": "stream",
     "text": [
      "Found 416 images belonging to 2 classes.\n"
     ]
    }
   ],
   "source": [
    "# Make sure you provide the same target size as initialied for the image size\n",
    "training_set = train_datagen.flow_from_directory('Dataset/Train',\n",
    "                                                 target_size = (224, 224),\n",
    "                                                 batch_size = 32,\n",
    "                                                 class_mode = 'categorical')"
   ]
  },
  {
   "cell_type": "code",
   "execution_count": 56,
   "metadata": {},
   "outputs": [
    {
     "data": {
      "text/plain": [
       "<tensorflow.python.keras.preprocessing.image.DirectoryIterator at 0x1c3a454bfa0>"
      ]
     },
     "execution_count": 56,
     "metadata": {},
     "output_type": "execute_result"
    }
   ],
   "source": [
    "training_set"
   ]
  },
  {
   "cell_type": "code",
   "execution_count": 57,
   "metadata": {},
   "outputs": [
    {
     "name": "stdout",
     "output_type": "stream",
     "text": [
      "Found 134 images belonging to 2 classes.\n"
     ]
    }
   ],
   "source": [
    "test_set = test_datagen.flow_from_directory('Dataset/Test',\n",
    "                                            target_size = (224, 224),\n",
    "                                            batch_size = 32,\n",
    "                                            class_mode = 'categorical')"
   ]
  },
  {
   "cell_type": "code",
   "execution_count": 59,
   "metadata": {
    "scrolled": true
   },
   "outputs": [
    {
     "name": "stdout",
     "output_type": "stream",
     "text": [
      "Epoch 1/50\n",
      "13/13 [==============================] - 17s 1s/step - loss: 0.1192 - accuracy: 0.9712 - val_loss: 0.3899 - val_accuracy: 0.8731\n",
      "Epoch 2/50\n",
      "13/13 [==============================] - 17s 1s/step - loss: 0.1577 - accuracy: 0.9567 - val_loss: 0.2514 - val_accuracy: 0.8955\n",
      "Epoch 3/50\n",
      "13/13 [==============================] - 17s 1s/step - loss: 0.0794 - accuracy: 0.9784 - val_loss: 0.2857 - val_accuracy: 0.8955\n",
      "Epoch 4/50\n",
      "13/13 [==============================] - 17s 1s/step - loss: 0.1132 - accuracy: 0.9615 - val_loss: 0.2592 - val_accuracy: 0.8955\n",
      "Epoch 5/50\n",
      "13/13 [==============================] - 17s 1s/step - loss: 0.0740 - accuracy: 0.9712 - val_loss: 0.2193 - val_accuracy: 0.8955\n",
      "Epoch 6/50\n",
      "13/13 [==============================] - 17s 1s/step - loss: 0.0825 - accuracy: 0.9808 - val_loss: 0.2570 - val_accuracy: 0.9030\n",
      "Epoch 7/50\n",
      "13/13 [==============================] - 17s 1s/step - loss: 0.0521 - accuracy: 0.9928 - val_loss: 0.3435 - val_accuracy: 0.8881\n",
      "Epoch 8/50\n",
      "13/13 [==============================] - 17s 1s/step - loss: 0.0628 - accuracy: 0.9880 - val_loss: 0.2338 - val_accuracy: 0.9104\n",
      "Epoch 9/50\n",
      "13/13 [==============================] - 17s 1s/step - loss: 0.0520 - accuracy: 0.9904 - val_loss: 0.2615 - val_accuracy: 0.9179\n",
      "Epoch 10/50\n",
      "13/13 [==============================] - 17s 1s/step - loss: 0.0561 - accuracy: 0.9856 - val_loss: 0.2488 - val_accuracy: 0.9328\n",
      "Epoch 11/50\n",
      "13/13 [==============================] - 17s 1s/step - loss: 0.0807 - accuracy: 0.9832 - val_loss: 0.3294 - val_accuracy: 0.8881\n",
      "Epoch 12/50\n",
      "13/13 [==============================] - 17s 1s/step - loss: 0.0495 - accuracy: 0.9880 - val_loss: 0.1851 - val_accuracy: 0.9478\n",
      "Epoch 13/50\n",
      "13/13 [==============================] - 17s 1s/step - loss: 0.0694 - accuracy: 0.9856 - val_loss: 0.3978 - val_accuracy: 0.8881\n",
      "Epoch 14/50\n",
      "13/13 [==============================] - 17s 1s/step - loss: 0.0417 - accuracy: 0.9952 - val_loss: 0.3386 - val_accuracy: 0.8955\n",
      "Epoch 15/50\n",
      "13/13 [==============================] - 17s 1s/step - loss: 0.0459 - accuracy: 0.9880 - val_loss: 0.2639 - val_accuracy: 0.9179\n",
      "Epoch 16/50\n",
      "13/13 [==============================] - 17s 1s/step - loss: 0.0366 - accuracy: 0.9904 - val_loss: 0.2528 - val_accuracy: 0.9179\n",
      "Epoch 17/50\n",
      "13/13 [==============================] - 17s 1s/step - loss: 0.0379 - accuracy: 0.9928 - val_loss: 0.3944 - val_accuracy: 0.8955\n",
      "Epoch 18/50\n",
      "13/13 [==============================] - 17s 1s/step - loss: 0.0398 - accuracy: 0.9904 - val_loss: 0.1893 - val_accuracy: 0.9254\n",
      "Epoch 19/50\n",
      "13/13 [==============================] - 17s 1s/step - loss: 0.0251 - accuracy: 0.9928 - val_loss: 0.5724 - val_accuracy: 0.8806\n",
      "Epoch 20/50\n",
      "13/13 [==============================] - 17s 1s/step - loss: 0.0412 - accuracy: 0.9904 - val_loss: 0.2414 - val_accuracy: 0.9328\n",
      "Epoch 21/50\n",
      "13/13 [==============================] - 17s 1s/step - loss: 0.0317 - accuracy: 0.9928 - val_loss: 0.3212 - val_accuracy: 0.9104\n",
      "Epoch 22/50\n",
      "13/13 [==============================] - 17s 1s/step - loss: 0.0348 - accuracy: 0.9904 - val_loss: 0.3970 - val_accuracy: 0.8881\n",
      "Epoch 23/50\n",
      "13/13 [==============================] - 17s 1s/step - loss: 0.0426 - accuracy: 0.9904 - val_loss: 0.2791 - val_accuracy: 0.9104\n",
      "Epoch 24/50\n",
      "13/13 [==============================] - 17s 1s/step - loss: 0.0307 - accuracy: 0.9952 - val_loss: 0.2477 - val_accuracy: 0.9328\n",
      "Epoch 25/50\n",
      "13/13 [==============================] - 17s 1s/step - loss: 0.0357 - accuracy: 0.9928 - val_loss: 0.1785 - val_accuracy: 0.9701\n",
      "Epoch 26/50\n",
      "13/13 [==============================] - 17s 1s/step - loss: 0.0249 - accuracy: 0.9952 - val_loss: 0.2936 - val_accuracy: 0.9179\n",
      "Epoch 27/50\n",
      "13/13 [==============================] - 17s 1s/step - loss: 0.0399 - accuracy: 0.9928 - val_loss: 0.3900 - val_accuracy: 0.9030\n",
      "Epoch 28/50\n",
      "13/13 [==============================] - 17s 1s/step - loss: 0.0618 - accuracy: 0.9856 - val_loss: 0.2885 - val_accuracy: 0.9179\n",
      "Epoch 29/50\n",
      "13/13 [==============================] - 17s 1s/step - loss: 0.0261 - accuracy: 0.9976 - val_loss: 0.6510 - val_accuracy: 0.8731\n",
      "Epoch 30/50\n",
      "13/13 [==============================] - 17s 1s/step - loss: 0.0462 - accuracy: 0.9904 - val_loss: 0.2148 - val_accuracy: 0.9328\n",
      "Epoch 31/50\n",
      "13/13 [==============================] - 17s 1s/step - loss: 0.0459 - accuracy: 0.9904 - val_loss: 0.5073 - val_accuracy: 0.8881\n",
      "Epoch 32/50\n",
      "13/13 [==============================] - 17s 1s/step - loss: 0.0370 - accuracy: 0.9928 - val_loss: 0.2944 - val_accuracy: 0.9328\n",
      "Epoch 33/50\n",
      "13/13 [==============================] - 17s 1s/step - loss: 0.0579 - accuracy: 0.9856 - val_loss: 0.3024 - val_accuracy: 0.9179\n",
      "Epoch 34/50\n",
      "13/13 [==============================] - 17s 1s/step - loss: 0.0250 - accuracy: 0.9952 - val_loss: 0.2287 - val_accuracy: 0.9403\n",
      "Epoch 35/50\n",
      "13/13 [==============================] - 17s 1s/step - loss: 0.0382 - accuracy: 0.9952 - val_loss: 0.4954 - val_accuracy: 0.8881\n",
      "Epoch 36/50\n",
      "13/13 [==============================] - 17s 1s/step - loss: 0.0280 - accuracy: 0.9928 - val_loss: 0.2247 - val_accuracy: 0.9403\n",
      "Epoch 37/50\n",
      "13/13 [==============================] - 17s 1s/step - loss: 0.0589 - accuracy: 0.9880 - val_loss: 0.4422 - val_accuracy: 0.8806\n",
      "Epoch 38/50\n",
      "13/13 [==============================] - 17s 1s/step - loss: 0.0546 - accuracy: 0.9856 - val_loss: 0.4370 - val_accuracy: 0.8881\n",
      "Epoch 39/50\n",
      "13/13 [==============================] - 17s 1s/step - loss: 0.0250 - accuracy: 0.9928 - val_loss: 0.1838 - val_accuracy: 0.9552\n",
      "Epoch 40/50\n",
      "13/13 [==============================] - 17s 1s/step - loss: 0.0216 - accuracy: 0.9952 - val_loss: 0.2818 - val_accuracy: 0.9328\n",
      "Epoch 41/50\n",
      "13/13 [==============================] - 17s 1s/step - loss: 0.0172 - accuracy: 0.9976 - val_loss: 0.3778 - val_accuracy: 0.9179\n",
      "Epoch 42/50\n",
      "13/13 [==============================] - 17s 1s/step - loss: 0.0165 - accuracy: 0.9976 - val_loss: 0.3807 - val_accuracy: 0.9328\n",
      "Epoch 43/50\n",
      "13/13 [==============================] - 17s 1s/step - loss: 0.0157 - accuracy: 0.9976 - val_loss: 0.3259 - val_accuracy: 0.9328\n",
      "Epoch 44/50\n",
      "13/13 [==============================] - 17s 1s/step - loss: 0.0145 - accuracy: 0.9976 - val_loss: 0.3354 - val_accuracy: 0.9328\n",
      "Epoch 45/50\n",
      "13/13 [==============================] - 17s 1s/step - loss: 0.0161 - accuracy: 0.9976 - val_loss: 0.3062 - val_accuracy: 0.9328\n",
      "Epoch 46/50\n",
      "13/13 [==============================] - 17s 1s/step - loss: 0.0137 - accuracy: 0.9976 - val_loss: 0.2933 - val_accuracy: 0.9328\n",
      "Epoch 47/50\n",
      "13/13 [==============================] - 17s 1s/step - loss: 0.0375 - accuracy: 0.9904 - val_loss: 0.4106 - val_accuracy: 0.9179\n",
      "Epoch 48/50\n",
      "13/13 [==============================] - 17s 1s/step - loss: 0.0243 - accuracy: 0.9952 - val_loss: 0.3272 - val_accuracy: 0.9254\n",
      "Epoch 49/50\n",
      "13/13 [==============================] - 17s 1s/step - loss: 0.0154 - accuracy: 0.9976 - val_loss: 0.2981 - val_accuracy: 0.9403\n",
      "Epoch 50/50\n",
      "13/13 [==============================] - 17s 1s/step - loss: 0.0150 - accuracy: 0.9976 - val_loss: 0.2813 - val_accuracy: 0.9403\n"
     ]
    }
   ],
   "source": [
    "# fit the model\n",
    "# Run the cell. It will take some time to execute\n",
    "r = model.fit_generator(\n",
    "  training_set,\n",
    "  validation_data=test_set,\n",
    "  epochs=50,\n",
    "  steps_per_epoch=len(training_set),\n",
    "  validation_steps=len(test_set)\n",
    ")"
   ]
  },
  {
   "cell_type": "code",
   "execution_count": null,
   "metadata": {},
   "outputs": [],
   "source": []
  },
  {
   "cell_type": "code",
   "execution_count": 60,
   "metadata": {},
   "outputs": [
    {
     "data": {
      "image/png": "[encoded data removed]",
      "text/plain": [
       "<Figure size 432x288 with 1 Axes>"
      ]
     },
     "metadata": {
      "needs_background": "light"
     },
     "output_type": "display_data"
    },
    {
     "data": {
      "image/png": "[encoded data removed]",
      "text/plain": [
       "<Figure size 432x288 with 1 Axes>"
      ]
     },
     "metadata": {
      "needs_background": "light"
     },
     "output_type": "display_data"
    },
    {
     "data": {
      "text/plain": [
       "<Figure size 432x288 with 0 Axes>"
      ]
     },
     "metadata": {},
     "output_type": "display_data"
    }
   ],
   "source": [
    "# plot the loss\n",
    "plt.plot(r.history['loss'], label='train loss')\n",
    "plt.plot(r.history['val_loss'], label='val loss')\n",
    "plt.legend()\n",
    "plt.show()\n",
    "plt.savefig('LossVal_loss')\n",
    "\n",
    "# plot the accuracy\n",
    "plt.plot(r.history['accuracy'], label='train acc')\n",
    "plt.plot(r.history['val_accuracy'], label='val acc')\n",
    "plt.legend()\n",
    "plt.show()\n",
    "plt.savefig('AccVal_acc')"
   ]
  },
  {
   "cell_type": "code",
   "execution_count": 62,
   "metadata": {},
   "outputs": [],
   "source": [
    "# save it as a h5 file\n",
    "\n",
    "\n",
    "from tensorflow.keras.models import load_model\n",
    "\n",
    "model.save('model_vgg19.h5')"
   ]
  },
  {
   "cell_type": "code",
   "execution_count": null,
   "metadata": {},
   "outputs": [],
   "source": []
  },
  {
   "cell_type": "code",
   "execution_count": 84,
   "metadata": {},
   "outputs": [],
   "source": [
    "\n",
    "y_pred = model.predict(test_set)\n"
   ]
  },
  {
   "cell_type": "code",
   "execution_count": 85,
   "metadata": {},
   "outputs": [
    {
     "data": {
      "text/plain": [
       "array([[0.2843373 , 0.7156627 ],\n",
       "       [0.22336747, 0.7766325 ],\n",
       "       [0.14467525, 0.8553248 ],\n",
       "       [0.21251036, 0.78748965],\n",
       "       [0.23970032, 0.7602996 ],\n",
       "       [0.15653664, 0.8434633 ],\n",
       "       [0.39952135, 0.6004786 ],\n",
       "       [0.6927196 , 0.30728045],\n",
       "       [0.95973086, 0.04026916],\n",
       "       [0.4049119 , 0.59508806],\n",
       "       [0.33628508, 0.66371495],\n",
       "       [0.22428255, 0.7757174 ],\n",
       "       [0.66732204, 0.33267796],\n",
       "       [0.28769094, 0.7123091 ],\n",
       "       [0.07830311, 0.9216969 ],\n",
       "       [0.8018348 , 0.19816525],\n",
       "       [0.20560604, 0.79439396],\n",
       "       [0.82987213, 0.17012782],\n",
       "       [0.39092284, 0.60907716],\n",
       "       [0.10765789, 0.8923421 ],\n",
       "       [0.95939034, 0.04060962],\n",
       "       [0.3492165 , 0.6507835 ],\n",
       "       [0.42357075, 0.57642925],\n",
       "       [0.9909774 , 0.00902253],\n",
       "       [0.28563592, 0.71436405],\n",
       "       [0.42359748, 0.5764025 ],\n",
       "       [0.2872902 , 0.7127097 ],\n",
       "       [0.19691862, 0.80308145],\n",
       "       [0.8587813 , 0.14121872],\n",
       "       [0.20452158, 0.7954784 ],\n",
       "       [0.17370774, 0.8262922 ],\n",
       "       [0.9361524 , 0.06384762],\n",
       "       [0.9748594 , 0.02514056],\n",
       "       [0.7442442 , 0.2557558 ],\n",
       "       [0.2321508 , 0.7678492 ],\n",
       "       [0.8425459 , 0.15745403],\n",
       "       [0.8404173 , 0.15958264],\n",
       "       [0.8363419 , 0.16365805],\n",
       "       [0.82991344, 0.17008655],\n",
       "       [0.86761963, 0.1323804 ],\n",
       "       [0.08506879, 0.9149312 ],\n",
       "       [0.39879823, 0.6012018 ],\n",
       "       [0.96388185, 0.03611811],\n",
       "       [0.12930167, 0.87069833],\n",
       "       [0.44905853, 0.55094147],\n",
       "       [0.15381391, 0.84618604],\n",
       "       [0.22230124, 0.77769876],\n",
       "       [0.20238145, 0.79761857],\n",
       "       [0.12540264, 0.8745974 ],\n",
       "       [0.15515593, 0.84484404],\n",
       "       [0.5244325 , 0.47556752],\n",
       "       [0.29212907, 0.70787096],\n",
       "       [0.7247903 , 0.27520972],\n",
       "       [0.87898755, 0.12101241],\n",
       "       [0.12391636, 0.8760837 ],\n",
       "       [0.83263427, 0.1673657 ],\n",
       "       [0.4279995 , 0.5720005 ],\n",
       "       [0.6105374 , 0.38946265],\n",
       "       [0.449195  , 0.550805  ],\n",
       "       [0.34454164, 0.65545833],\n",
       "       [0.1340508 , 0.86594915],\n",
       "       [0.2536375 , 0.74636245],\n",
       "       [0.8777115 , 0.1222885 ],\n",
       "       [0.89022017, 0.10977985],\n",
       "       [0.8475313 , 0.1524687 ],\n",
       "       [0.1277608 , 0.87223923],\n",
       "       [0.52924633, 0.47075373],\n",
       "       [0.36881578, 0.63118416],\n",
       "       [0.7497037 , 0.2502963 ],\n",
       "       [0.8924355 , 0.10756452],\n",
       "       [0.8985617 , 0.10143837],\n",
       "       [0.6579959 , 0.34200406],\n",
       "       [0.1810037 , 0.8189963 ],\n",
       "       [0.14545847, 0.85454154],\n",
       "       [0.33417594, 0.66582406],\n",
       "       [0.14369097, 0.85630906],\n",
       "       [0.8193717 , 0.18062828],\n",
       "       [0.26904646, 0.7309536 ],\n",
       "       [0.86539656, 0.13460344],\n",
       "       [0.97561455, 0.02438546],\n",
       "       [0.13228   , 0.86772007],\n",
       "       [0.22411488, 0.77588516],\n",
       "       [0.13840444, 0.8615956 ],\n",
       "       [0.45636603, 0.54363406],\n",
       "       [0.11867879, 0.8813212 ],\n",
       "       [0.11892834, 0.8810716 ],\n",
       "       [0.40248287, 0.5975171 ],\n",
       "       [0.8906792 , 0.10932087],\n",
       "       [0.7467162 , 0.2532838 ],\n",
       "       [0.1962307 , 0.8037693 ],\n",
       "       [0.23684837, 0.76315165],\n",
       "       [0.9490123 , 0.05098776],\n",
       "       [0.6018388 , 0.3981612 ],\n",
       "       [0.68650424, 0.31349578],\n",
       "       [0.89925396, 0.10074606],\n",
       "       [0.34684148, 0.65315855],\n",
       "       [0.66028625, 0.33971378],\n",
       "       [0.96123683, 0.03876313],\n",
       "       [0.38634625, 0.6136538 ],\n",
       "       [0.6281854 , 0.37181458],\n",
       "       [0.2748915 , 0.7251085 ],\n",
       "       [0.13437377, 0.8656262 ],\n",
       "       [0.42105424, 0.57894576],\n",
       "       [0.4219892 , 0.5780108 ],\n",
       "       [0.2637239 , 0.7362761 ],\n",
       "       [0.8886409 , 0.11135916],\n",
       "       [0.21331277, 0.78668725],\n",
       "       [0.9335438 , 0.06645615],\n",
       "       [0.9397355 , 0.06026452],\n",
       "       [0.66828024, 0.33171976],\n",
       "       [0.8042379 , 0.19576208],\n",
       "       [0.6365882 , 0.36341175],\n",
       "       [0.57278186, 0.4272181 ],\n",
       "       [0.994159  , 0.00584101],\n",
       "       [0.5160133 , 0.48398665],\n",
       "       [0.9779407 , 0.02205935],\n",
       "       [0.17917497, 0.82082504],\n",
       "       [0.33588263, 0.66411746],\n",
       "       [0.1591796 , 0.84082043],\n",
       "       [0.33444086, 0.6655592 ],\n",
       "       [0.39575076, 0.6042493 ],\n",
       "       [0.83349055, 0.16650943],\n",
       "       [0.21754368, 0.78245634],\n",
       "       [0.13885842, 0.8611416 ],\n",
       "       [0.9000341 , 0.09996589],\n",
       "       [0.65134245, 0.3486576 ],\n",
       "       [0.99585706, 0.00414294],\n",
       "       [0.1872296 , 0.81277037],\n",
       "       [0.2093115 , 0.7906885 ],\n",
       "       [0.4213218 , 0.5786782 ],\n",
       "       [0.7692037 , 0.23079625],\n",
       "       [0.39554995, 0.60445005],\n",
       "       [0.23743038, 0.7625696 ],\n",
       "       [0.44402236, 0.5559777 ]], dtype=float32)"
      ]
     },
     "execution_count": 85,
     "metadata": {},
     "output_type": "execute_result"
    }
   ],
   "source": [
    "y_pred"
   ]
  },
  {
   "cell_type": "code",
   "execution_count": 73,
   "metadata": {},
   "outputs": [],
   "source": [
    "import numpy as np\n",
    "y_pred = np.argmax(y_pred, axis=1)"
   ]
  },
  {
   "cell_type": "code",
   "execution_count": 74,
   "metadata": {},
   "outputs": [
    {
     "data": {
      "text/plain": [
       "array([1, 1, 1, 0, 0, 1, 1, 0, 1, 1, 1, 0, 1, 1, 1, 1, 1, 0, 0, 0, 1, 0,\n",
       "       1, 1, 0, 1, 0, 0, 0, 1, 1, 0, 0, 1, 1, 0, 0, 1, 0, 0, 0, 1, 0, 1,\n",
       "       0, 0, 1, 1, 0, 1, 1, 1, 0, 0, 1, 1, 0, 0, 1, 0, 1, 1, 1, 1, 0, 1,\n",
       "       1, 1, 1, 0, 1, 1, 0, 1, 0, 1, 1, 1, 1, 0, 1, 1, 1, 1, 1, 1, 1, 1,\n",
       "       0, 0, 0, 1, 0, 1, 1, 0, 0, 1, 1, 1, 0, 0, 1, 1, 0, 1, 1, 0, 0, 0,\n",
       "       0, 1, 0, 1, 0, 1, 1, 1, 0, 0, 1, 0, 0, 1, 1, 0, 1, 1, 0, 0, 1, 1,\n",
       "       0, 0], dtype=int64)"
      ]
     },
     "execution_count": 74,
     "metadata": {},
     "output_type": "execute_result"
    }
   ],
   "source": [
    "y_pred"
   ]
  },
  {
   "cell_type": "code",
   "execution_count": 5,
   "metadata": {},
   "outputs": [
    {
     "name": "stdout",
     "output_type": "stream",
     "text": [
      "Found 11 images belonging to 1 classes.\n",
      "[[1.0000000e+00 8.6771537e-16]\n",
      " [1.0000000e+00 5.6112248e-16]\n",
      " [1.0000000e+00 3.1787412e-10]\n",
      " [1.0000000e+00 3.2683457e-38]\n",
      " [1.0000000e+00 9.6275697e-27]\n",
      " [1.0000000e+00 2.1598815e-16]\n",
      " [1.0000000e+00 5.0764686e-09]\n",
      " [1.0000000e+00 8.8682871e-19]\n",
      " [1.0000000e+00 2.5419518e-33]\n",
      " [1.0000000e+00 9.3846960e-34]\n",
      " [1.0000000e+00 0.0000000e+00]]\n",
      "[0 0 0 0 0 0 0 0 0 0 0]\n"
     ]
    },
    {
     "data": {
      "text/plain": [
       "'if(a==1):\\n    print(\"Uninfected\")\\nelse:\\n    print(\"Infected\")'"
      ]
     },
     "execution_count": 5,
     "metadata": {},
     "output_type": "execute_result"
    }
   ],
   "source": [
    "from tensorflow.keras.models import load_model\n",
    "from tensorflow.keras.preprocessing.image import ImageDataGenerator,load_img\n",
    "from tensorflow.keras.preprocessing import image\n",
    "model=load_model('C:\\\\Users\\\\HP\\\\OneDrive\\\\Desktop\\\\Malaria-Detection-master\\\\model_vgg19.h5')\n",
    "test_datagen = ImageDataGenerator(rescale = 1./255)\n",
    "test_set = test_datagen.flow_from_directory('vv/t',\n",
    "                                            target_size = (224, 224),\n",
    "                                            batch_size = 32,\n",
    "                                            class_mode = 'categorical')\n",
    "\n",
    "result=model.predict(test_set)\n",
    "print(result)\n",
    "import numpy as np\n",
    "a=np.argmax(model.predict(test_set), axis=1)\n",
    "print(a)\n",
    "'''if(a==1):\n",
    "    print(\"Uninfected\")\n",
    "else:\n",
    "    print(\"Infected\")'''"
   ]
  },
  {
   "cell_type": "code",
   "execution_count": 24,
   "metadata": {},
   "outputs": [],
   "source": [
    "img=image.load_img('Dataset/Test/Uninfected/2.png',target_size=(224,224))\n",
    "\n"
   ]
  },
  {
   "cell_type": "code",
   "execution_count": 40,
   "metadata": {},
   "outputs": [],
   "source": [
    "img=image.load_img('Dataset/Test/Parasite/1.png',target_size=(224,224))"
   ]
  },
  {
   "cell_type": "code",
   "execution_count": 41,
   "metadata": {},
   "outputs": [
    {
     "data": {
      "text/plain": [
       "array([[[0., 0., 0.],\n",
       "        [0., 0., 0.],\n",
       "        [0., 0., 0.],\n",
       "        ...,\n",
       "        [0., 0., 0.],\n",
       "        [0., 0., 0.],\n",
       "        [0., 0., 0.]],\n",
       "\n",
       "       [[0., 0., 0.],\n",
       "        [0., 0., 0.],\n",
       "        [0., 0., 0.],\n",
       "        ...,\n",
       "        [0., 0., 0.],\n",
       "        [0., 0., 0.],\n",
       "        [0., 0., 0.]],\n",
       "\n",
       "       [[0., 0., 0.],\n",
       "        [0., 0., 0.],\n",
       "        [0., 0., 0.],\n",
       "        ...,\n",
       "        [0., 0., 0.],\n",
       "        [0., 0., 0.],\n",
       "        [0., 0., 0.]],\n",
       "\n",
       "       ...,\n",
       "\n",
       "       [[0., 0., 0.],\n",
       "        [0., 0., 0.],\n",
       "        [0., 0., 0.],\n",
       "        ...,\n",
       "        [0., 0., 0.],\n",
       "        [0., 0., 0.],\n",
       "        [0., 0., 0.]],\n",
       "\n",
       "       [[0., 0., 0.],\n",
       "        [0., 0., 0.],\n",
       "        [0., 0., 0.],\n",
       "        ...,\n",
       "        [0., 0., 0.],\n",
       "        [0., 0., 0.],\n",
       "        [0., 0., 0.]],\n",
       "\n",
       "       [[0., 0., 0.],\n",
       "        [0., 0., 0.],\n",
       "        [0., 0., 0.],\n",
       "        ...,\n",
       "        [0., 0., 0.],\n",
       "        [0., 0., 0.],\n",
       "        [0., 0., 0.]]], dtype=float32)"
      ]
     },
     "execution_count": 41,
     "metadata": {},
     "output_type": "execute_result"
    }
   ],
   "source": [
    "x=image.img_to_array(img)\n",
    "x"
   ]
  },
  {
   "cell_type": "code",
   "execution_count": 42,
   "metadata": {},
   "outputs": [
    {
     "data": {
      "text/plain": [
       "(224, 224, 3)"
      ]
     },
     "execution_count": 42,
     "metadata": {},
     "output_type": "execute_result"
    }
   ],
   "source": [
    "x.shape"
   ]
  },
  {
   "cell_type": "code",
   "execution_count": 43,
   "metadata": {},
   "outputs": [],
   "source": [
    "x=x/255"
   ]
  },
  {
   "cell_type": "code",
   "execution_count": 44,
   "metadata": {},
   "outputs": [
    {
     "data": {
      "text/plain": [
       "(1, 224, 224, 3)"
      ]
     },
     "execution_count": 44,
     "metadata": {},
     "output_type": "execute_result"
    }
   ],
   "source": [
    "x=np.expand_dims(x,axis=0)\n",
    "img_data=preprocess_input(x)\n",
    "img_data.shape"
   ]
  },
  {
   "cell_type": "code",
   "execution_count": 45,
   "metadata": {},
   "outputs": [
    {
     "data": {
      "text/plain": [
       "array([[0.02571126, 0.9742888 ]], dtype=float32)"
      ]
     },
     "execution_count": 45,
     "metadata": {},
     "output_type": "execute_result"
    }
   ],
   "source": [
    "model.predict(img_data)"
   ]
  },
  {
   "cell_type": "code",
   "execution_count": 38,
   "metadata": {},
   "outputs": [],
   "source": [
    "a=np.argmax(model.predict(img_data), axis=1)"
   ]
  },
  {
   "cell_type": "code",
   "execution_count": 86,
   "metadata": {},
   "outputs": [
    {
     "name": "stdout",
     "output_type": "stream",
     "text": [
      "Found 1 images belonging to 1 classes.\n"
     ]
    }
   ],
   "source": [
    "test_datagen = ImageDataGenerator(rescale = 1./255)\n",
    "test_settt = test_datagen.flow_from_directory('vv/',\n",
    "                                            target_size = (64, 64),\n",
    "                                            batch_size = 32,\n",
    "                                            class_mode = 'binary')"
   ]
  },
  {
   "cell_type": "code",
   "execution_count": 90,
   "metadata": {},
   "outputs": [
    {
     "ename": "InvalidArgumentError",
     "evalue": " Input to reshape is a tensor with 2048 values, but the requested shape requires a multiple of 25088\n\t [[node model_1/flatten_1/Reshape (defined at <ipython-input-78-f647074c5418>:1) ]] [Op:__inference_predict_function_7025]\n\nFunction call stack:\npredict_function\n",
     "output_type": "error",
     "traceback": [
      "\u001b[1;31m---------------------------------------------------------------------------\u001b[0m",
      "\u001b[1;31mInvalidArgumentError\u001b[0m                      Traceback (most recent call last)",
      "\u001b[1;32m<ipython-input-90-0158e94cb51b>\u001b[0m in \u001b[0;36m<module>\u001b[1;34m\u001b[0m\n\u001b[1;32m----> 1\u001b[1;33m \u001b[0mresult\u001b[0m\u001b[1;33m=\u001b[0m\u001b[0mmodel\u001b[0m\u001b[1;33m.\u001b[0m\u001b[0mpredict\u001b[0m\u001b[1;33m(\u001b[0m\u001b[0mtest_settt\u001b[0m\u001b[1;33m)\u001b[0m\u001b[1;33m\u001b[0m\u001b[1;33m\u001b[0m\u001b[0m\n\u001b[0m",
      "\u001b[1;32mD:\\Pythontensor\\lib\\site-packages\\tensorflow\\python\\keras\\engine\\training.py\u001b[0m in \u001b[0;36mpredict\u001b[1;34m(self, x, batch_size, verbose, steps, callbacks, max_queue_size, workers, use_multiprocessing)\u001b[0m\n\u001b[0;32m   1725\u001b[0m           \u001b[1;32mfor\u001b[0m \u001b[0mstep\u001b[0m \u001b[1;32min\u001b[0m \u001b[0mdata_handler\u001b[0m\u001b[1;33m.\u001b[0m\u001b[0msteps\u001b[0m\u001b[1;33m(\u001b[0m\u001b[1;33m)\u001b[0m\u001b[1;33m:\u001b[0m\u001b[1;33m\u001b[0m\u001b[1;33m\u001b[0m\u001b[0m\n\u001b[0;32m   1726\u001b[0m             \u001b[0mcallbacks\u001b[0m\u001b[1;33m.\u001b[0m\u001b[0mon_predict_batch_begin\u001b[0m\u001b[1;33m(\u001b[0m\u001b[0mstep\u001b[0m\u001b[1;33m)\u001b[0m\u001b[1;33m\u001b[0m\u001b[1;33m\u001b[0m\u001b[0m\n\u001b[1;32m-> 1727\u001b[1;33m             \u001b[0mtmp_batch_outputs\u001b[0m \u001b[1;33m=\u001b[0m \u001b[0mself\u001b[0m\u001b[1;33m.\u001b[0m\u001b[0mpredict_function\u001b[0m\u001b[1;33m(\u001b[0m\u001b[0miterator\u001b[0m\u001b[1;33m)\u001b[0m\u001b[1;33m\u001b[0m\u001b[1;33m\u001b[0m\u001b[0m\n\u001b[0m\u001b[0;32m   1728\u001b[0m             \u001b[1;32mif\u001b[0m \u001b[0mdata_handler\u001b[0m\u001b[1;33m.\u001b[0m\u001b[0mshould_sync\u001b[0m\u001b[1;33m:\u001b[0m\u001b[1;33m\u001b[0m\u001b[1;33m\u001b[0m\u001b[0m\n\u001b[0;32m   1729\u001b[0m               \u001b[0mcontext\u001b[0m\u001b[1;33m.\u001b[0m\u001b[0masync_wait\u001b[0m\u001b[1;33m(\u001b[0m\u001b[1;33m)\u001b[0m\u001b[1;33m\u001b[0m\u001b[1;33m\u001b[0m\u001b[0m\n",
      "\u001b[1;32mD:\\Pythontensor\\lib\\site-packages\\tensorflow\\python\\eager\\def_function.py\u001b[0m in \u001b[0;36m__call__\u001b[1;34m(self, *args, **kwds)\u001b[0m\n\u001b[0;32m    887\u001b[0m \u001b[1;33m\u001b[0m\u001b[0m\n\u001b[0;32m    888\u001b[0m       \u001b[1;32mwith\u001b[0m \u001b[0mOptionalXlaContext\u001b[0m\u001b[1;33m(\u001b[0m\u001b[0mself\u001b[0m\u001b[1;33m.\u001b[0m\u001b[0m_jit_compile\u001b[0m\u001b[1;33m)\u001b[0m\u001b[1;33m:\u001b[0m\u001b[1;33m\u001b[0m\u001b[1;33m\u001b[0m\u001b[0m\n\u001b[1;32m--> 889\u001b[1;33m         \u001b[0mresult\u001b[0m \u001b[1;33m=\u001b[0m \u001b[0mself\u001b[0m\u001b[1;33m.\u001b[0m\u001b[0m_call\u001b[0m\u001b[1;33m(\u001b[0m\u001b[1;33m*\u001b[0m\u001b[0margs\u001b[0m\u001b[1;33m,\u001b[0m \u001b[1;33m**\u001b[0m\u001b[0mkwds\u001b[0m\u001b[1;33m)\u001b[0m\u001b[1;33m\u001b[0m\u001b[1;33m\u001b[0m\u001b[0m\n\u001b[0m\u001b[0;32m    890\u001b[0m \u001b[1;33m\u001b[0m\u001b[0m\n\u001b[0;32m    891\u001b[0m       \u001b[0mnew_tracing_count\u001b[0m \u001b[1;33m=\u001b[0m \u001b[0mself\u001b[0m\u001b[1;33m.\u001b[0m\u001b[0mexperimental_get_tracing_count\u001b[0m\u001b[1;33m(\u001b[0m\u001b[1;33m)\u001b[0m\u001b[1;33m\u001b[0m\u001b[1;33m\u001b[0m\u001b[0m\n",
      "\u001b[1;32mD:\\Pythontensor\\lib\\site-packages\\tensorflow\\python\\eager\\def_function.py\u001b[0m in \u001b[0;36m_call\u001b[1;34m(self, *args, **kwds)\u001b[0m\n\u001b[0;32m    922\u001b[0m       \u001b[1;31m# In this case we have not created variables on the first call. So we can\u001b[0m\u001b[1;33m\u001b[0m\u001b[1;33m\u001b[0m\u001b[1;33m\u001b[0m\u001b[0m\n\u001b[0;32m    923\u001b[0m       \u001b[1;31m# run the first trace but we should fail if variables are created.\u001b[0m\u001b[1;33m\u001b[0m\u001b[1;33m\u001b[0m\u001b[1;33m\u001b[0m\u001b[0m\n\u001b[1;32m--> 924\u001b[1;33m       \u001b[0mresults\u001b[0m \u001b[1;33m=\u001b[0m \u001b[0mself\u001b[0m\u001b[1;33m.\u001b[0m\u001b[0m_stateful_fn\u001b[0m\u001b[1;33m(\u001b[0m\u001b[1;33m*\u001b[0m\u001b[0margs\u001b[0m\u001b[1;33m,\u001b[0m \u001b[1;33m**\u001b[0m\u001b[0mkwds\u001b[0m\u001b[1;33m)\u001b[0m\u001b[1;33m\u001b[0m\u001b[1;33m\u001b[0m\u001b[0m\n\u001b[0m\u001b[0;32m    925\u001b[0m       \u001b[1;32mif\u001b[0m \u001b[0mself\u001b[0m\u001b[1;33m.\u001b[0m\u001b[0m_created_variables\u001b[0m\u001b[1;33m:\u001b[0m\u001b[1;33m\u001b[0m\u001b[1;33m\u001b[0m\u001b[0m\n\u001b[0;32m    926\u001b[0m         raise ValueError(\"Creating variables on a non-first call to a function\"\n",
      "\u001b[1;32mD:\\Pythontensor\\lib\\site-packages\\tensorflow\\python\\eager\\function.py\u001b[0m in \u001b[0;36m__call__\u001b[1;34m(self, *args, **kwargs)\u001b[0m\n\u001b[0;32m   3021\u001b[0m       (graph_function,\n\u001b[0;32m   3022\u001b[0m        filtered_flat_args) = self._maybe_define_function(args, kwargs)\n\u001b[1;32m-> 3023\u001b[1;33m     return graph_function._call_flat(\n\u001b[0m\u001b[0;32m   3024\u001b[0m         filtered_flat_args, captured_inputs=graph_function.captured_inputs)  # pylint: disable=protected-access\n\u001b[0;32m   3025\u001b[0m \u001b[1;33m\u001b[0m\u001b[0m\n",
      "\u001b[1;32mD:\\Pythontensor\\lib\\site-packages\\tensorflow\\python\\eager\\function.py\u001b[0m in \u001b[0;36m_call_flat\u001b[1;34m(self, args, captured_inputs, cancellation_manager)\u001b[0m\n\u001b[0;32m   1958\u001b[0m         and executing_eagerly):\n\u001b[0;32m   1959\u001b[0m       \u001b[1;31m# No tape is watching; skip to running the function.\u001b[0m\u001b[1;33m\u001b[0m\u001b[1;33m\u001b[0m\u001b[1;33m\u001b[0m\u001b[0m\n\u001b[1;32m-> 1960\u001b[1;33m       return self._build_call_outputs(self._inference_function.call(\n\u001b[0m\u001b[0;32m   1961\u001b[0m           ctx, args, cancellation_manager=cancellation_manager))\n\u001b[0;32m   1962\u001b[0m     forward_backward = self._select_forward_and_backward_functions(\n",
      "\u001b[1;32mD:\\Pythontensor\\lib\\site-packages\\tensorflow\\python\\eager\\function.py\u001b[0m in \u001b[0;36mcall\u001b[1;34m(self, ctx, args, cancellation_manager)\u001b[0m\n\u001b[0;32m    589\u001b[0m       \u001b[1;32mwith\u001b[0m \u001b[0m_InterpolateFunctionError\u001b[0m\u001b[1;33m(\u001b[0m\u001b[0mself\u001b[0m\u001b[1;33m)\u001b[0m\u001b[1;33m:\u001b[0m\u001b[1;33m\u001b[0m\u001b[1;33m\u001b[0m\u001b[0m\n\u001b[0;32m    590\u001b[0m         \u001b[1;32mif\u001b[0m \u001b[0mcancellation_manager\u001b[0m \u001b[1;32mis\u001b[0m \u001b[1;32mNone\u001b[0m\u001b[1;33m:\u001b[0m\u001b[1;33m\u001b[0m\u001b[1;33m\u001b[0m\u001b[0m\n\u001b[1;32m--> 591\u001b[1;33m           outputs = execute.execute(\n\u001b[0m\u001b[0;32m    592\u001b[0m               \u001b[0mstr\u001b[0m\u001b[1;33m(\u001b[0m\u001b[0mself\u001b[0m\u001b[1;33m.\u001b[0m\u001b[0msignature\u001b[0m\u001b[1;33m.\u001b[0m\u001b[0mname\u001b[0m\u001b[1;33m)\u001b[0m\u001b[1;33m,\u001b[0m\u001b[1;33m\u001b[0m\u001b[1;33m\u001b[0m\u001b[0m\n\u001b[0;32m    593\u001b[0m               \u001b[0mnum_outputs\u001b[0m\u001b[1;33m=\u001b[0m\u001b[0mself\u001b[0m\u001b[1;33m.\u001b[0m\u001b[0m_num_outputs\u001b[0m\u001b[1;33m,\u001b[0m\u001b[1;33m\u001b[0m\u001b[1;33m\u001b[0m\u001b[0m\n",
      "\u001b[1;32mD:\\Pythontensor\\lib\\site-packages\\tensorflow\\python\\eager\\execute.py\u001b[0m in \u001b[0;36mquick_execute\u001b[1;34m(op_name, num_outputs, inputs, attrs, ctx, name)\u001b[0m\n\u001b[0;32m     57\u001b[0m   \u001b[1;32mtry\u001b[0m\u001b[1;33m:\u001b[0m\u001b[1;33m\u001b[0m\u001b[1;33m\u001b[0m\u001b[0m\n\u001b[0;32m     58\u001b[0m     \u001b[0mctx\u001b[0m\u001b[1;33m.\u001b[0m\u001b[0mensure_initialized\u001b[0m\u001b[1;33m(\u001b[0m\u001b[1;33m)\u001b[0m\u001b[1;33m\u001b[0m\u001b[1;33m\u001b[0m\u001b[0m\n\u001b[1;32m---> 59\u001b[1;33m     tensors = pywrap_tfe.TFE_Py_Execute(ctx._handle, device_name, op_name,\n\u001b[0m\u001b[0;32m     60\u001b[0m                                         inputs, attrs, num_outputs)\n\u001b[0;32m     61\u001b[0m   \u001b[1;32mexcept\u001b[0m \u001b[0mcore\u001b[0m\u001b[1;33m.\u001b[0m\u001b[0m_NotOkStatusException\u001b[0m \u001b[1;32mas\u001b[0m \u001b[0me\u001b[0m\u001b[1;33m:\u001b[0m\u001b[1;33m\u001b[0m\u001b[1;33m\u001b[0m\u001b[0m\n",
      "\u001b[1;31mInvalidArgumentError\u001b[0m:  Input to reshape is a tensor with 2048 values, but the requested shape requires a multiple of 25088\n\t [[node model_1/flatten_1/Reshape (defined at <ipython-input-78-f647074c5418>:1) ]] [Op:__inference_predict_function_7025]\n\nFunction call stack:\npredict_function\n"
     ]
    }
   ],
   "source": [
    "result=model.predict(test_settt)"
   ]
  },
  {
   "cell_type": "code",
   "execution_count": 39,
   "metadata": {},
   "outputs": [
    {
     "name": "stdout",
     "output_type": "stream",
     "text": [
      "Uninfected\n"
     ]
    }
   ],
   "source": [
    "if(a==1):\n",
    "    print(\"Uninfected\")\n",
    "else:\n",
    "    print(\"Infected\")"
   ]
  },
  {
   "cell_type": "code",
   "execution_count": 18,
   "metadata": {},
   "outputs": [],
   "source": [
    "from tensorflow.keras.models import load_model\n",
    "from tensorflow.keras.preprocessing import image\n",
    "model=load_model('C:\\\\Users\\\\HP\\\\OneDrive\\\\Desktop\\\\Malaria-Detection-master\\\\malaria3.h5')"
   ]
  },
  {
   "cell_type": "code",
   "execution_count": 19,
   "metadata": {},
   "outputs": [
    {
     "name": "stdout",
     "output_type": "stream",
     "text": [
      "Found 1 images belonging to 1 classes.\n"
     ]
    }
   ],
   "source": [
    "test_datagen = ImageDataGenerator(rescale = 1./255)\n",
    "test_set = test_datagen.flow_from_directory('vv/t',\n",
    "                                            target_size = (64, 64),\n",
    "                                            batch_size = 32,\n",
    "                                            class_mode = 'categorical')"
   ]
  },
  {
   "cell_type": "code",
   "execution_count": 21,
   "metadata": {},
   "outputs": [
    {
     "data": {
      "text/plain": [
       "array([[9.9999988e-01, 1.4538112e-07]], dtype=float32)"
      ]
     },
     "execution_count": 21,
     "metadata": {},
     "output_type": "execute_result"
    }
   ],
   "source": [
    "result=model.predict(test_set)\n",
    "result\n",
    "import numpy as np\n",
    "a=np.argmax(model.predict(test_set), axis=1)\n",
    "if(a==1):\n",
    "    print(\"Uninfected\")\n",
    "else:\n",
    "    print(\"Infected\")"
   ]
  },
  {
   "cell_type": "code",
   "execution_count": 24,
   "metadata": {},
   "outputs": [
    {
     "name": "stdout",
     "output_type": "stream",
     "text": [
      "Infected\n"
     ]
    }
   ],
   "source": [
    "import numpy as np\n",
    "a=np.argmax(model.predict(test_set), axis=1)\n",
    "if(a==1):\n",
    "    print(\"Uninfected\")\n",
    "else:\n",
    "    print(\"Infected\")"
   ]
  },
  {
   "cell_type": "code",
   "execution_count": 2,
   "metadata": {},
   "outputs": [
    {
     "name": "stdout",
     "output_type": "stream",
     "text": [
      " * Serving Flask app \"__main__\" (lazy loading)\n",
      " * Environment: production\n",
      "   WARNING: This is a development server. Do not use it in a production deployment.\n",
      "   Use a production WSGI server instead.\n",
      " * Debug mode: on\n"
     ]
    },
    {
     "name": "stderr",
     "output_type": "stream",
     "text": [
      " * Restarting with windowsapi reloader\n"
     ]
    },
    {
     "ename": "SystemExit",
     "evalue": "1",
     "output_type": "error",
     "traceback": [
      "An exception has occurred, use %tb to see the full traceback.\n",
      "\u001b[1;31mSystemExit\u001b[0m\u001b[1;31m:\u001b[0m 1\n"
     ]
    }
   ],
   "source": [
    "# -*- coding: utf-8 -*-\n",
    "\"\"\"\n",
    "Created on Thu Jun 11 22:34:20 2020\n",
    "@author: Krish Naik\n",
    "\"\"\"\n",
    "\n",
    "from __future__ import division, print_function\n",
    "# coding=utf-8\n",
    "import sys\n",
    "import os\n",
    "import glob\n",
    "import re\n",
    "import numpy as np\n",
    "\n",
    "# Keras\n",
    "from tensorflow.keras.applications.imagenet_utils import preprocess_input, decode_predictions\n",
    "from tensorflow.keras.models import load_model\n",
    "from tensorflow.keras.preprocessing import image\n",
    "\n",
    "# Flask utils\n",
    "from flask import Flask, redirect, url_for, request, render_template\n",
    "from werkzeug.utils import secure_filename\n",
    "#from gevent.pywsgi import WSGIServer\n",
    "\n",
    "# Define a flask app\n",
    "app = Flask(__name__)\n",
    "\n",
    "# Model saved with Keras model.save()\n",
    "MODEL_PATH ='model_vgg19.h5'\n",
    "\n",
    "# Load your trained model\n",
    "model = load_model(MODEL_PATH)\n",
    "\n",
    "\n",
    "\n",
    "\n",
    "\n",
    "def model_predict(img_path, model):\n",
    "    img = image.load_img(img_path, target_size=(224, 224))\n",
    "\n",
    "    # Preprocessing the image\n",
    "    x = image.img_to_array(img)\n",
    "    # x = np.true_divide(x, 255)\n",
    "    ## Scaling\n",
    "    x=x/255\n",
    "    x = np.expand_dims(x, axis=0)\n",
    "   \n",
    "\n",
    "    # Be careful how your trained model deals with the input\n",
    "    # otherwise, it won't make correct prediction!\n",
    "    x = preprocess_input(x)\n",
    "\n",
    "    preds = model.predict(x)\n",
    "    preds=np.argmax(preds, axis=1)\n",
    "    if preds==0:\n",
    "        preds=\"The Person is Infected With Pneumonia\"\n",
    "    else:\n",
    "        preds=\"The Person is not Infected With Pneumonia\"\n",
    "    \n",
    "    \n",
    "    return preds\n",
    "\n",
    "\n",
    "@app.route('/', methods=['GET'])\n",
    "def index():\n",
    "    # Main page\n",
    "    return render_template('index.html')\n",
    "\n",
    "\n",
    "@app.route('/predict', methods=['GET', 'POST'])\n",
    "def upload():\n",
    "    if request.method == 'POST':\n",
    "        # Get the file from post request\n",
    "        f = request.files['file']\n",
    "\n",
    "        # Save the file to ./uploads\n",
    "        basepath = os.path.dirname(__file__)\n",
    "        file_path = os.path.join(\n",
    "            basepath, 'uploads', secure_filename(f.filename))\n",
    "        f.save(file_path)\n",
    "\n",
    "        # Make prediction\n",
    "        preds = model_predict(file_path, model)\n",
    "        result=preds\n",
    "        return result\n",
    "    return None\n",
    "\n",
    "\n",
    "if __name__ == '__main__':\n",
    "    app.run(debug=True)"
   ]
  },
  {
   "cell_type": "code",
   "execution_count": 3,
   "metadata": {},
   "outputs": [
    {
     "data": {
      "text/plain": [
       "[name: \"/device:CPU:0\"\n",
       " device_type: \"CPU\"\n",
       " memory_limit: 268435456\n",
       " locality {\n",
       " }\n",
       " incarnation: 18161678010156824940]"
      ]
     },
     "execution_count": 3,
     "metadata": {},
     "output_type": "execute_result"
    }
   ],
   "source": [
    "from tensorflow.python.client import device_lib\n",
    "device_lib.list_local_devices()"
   ]
  },
  {
   "cell_type": "code",
   "execution_count": null,
   "metadata": {},
   "outputs": [],
   "source": []
  }
 ],
 "metadata": {
  "kernelspec": {
   "display_name": "Python 3",
   "language": "python",
   "name": "python3"
  },
  "language_info": {
   "codemirror_mode": {
    "name": "ipython",
    "version": 3
   },
   "file_extension": ".py",
   "mimetype": "text/x-python",
   "name": "python",
   "nbconvert_exporter": "python",
   "pygments_lexer": "ipython3",
   "version": "3.8.3"
  }
 },
 "nbformat": 4,
 "nbformat_minor": 2
}
